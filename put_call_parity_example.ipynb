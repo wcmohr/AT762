{
 "cells": [
  {
   "cell_type": "markdown",
   "id": "245bb932-483c-43c5-9726-dea654b70e17",
   "metadata": {
    "tags": []
   },
   "source": [
    "##### put-call parity\n",
    "BU Shares sell for \\\\$47. A 9-month \\\\$50 call costs \\\\$3.55.  A 9-month \\\\$50 put costs \\\\$4.71.  The risk-free rate is 5%.  Does Put-Call Parity hold?"
   ]
  },
  {
   "cell_type": "markdown",
   "id": "4e418ecd-a9e2-41cd-88c7-cb30eeee4c2f",
   "metadata": {},
   "source": [
    "put-call parity: If I buy a put and sell a call, I will own the asset at the strike price.  Therefore, the difference between the forward price and the strike price discounted at the risk-free rate should equal the difference between the cost of put and income from call."
   ]
  },
  {
   "cell_type": "code",
   "execution_count": 1,
   "id": "dfd477d9-89a0-4d38-ba7e-95f1b332d5e5",
   "metadata": {
    "tags": []
   },
   "outputs": [],
   "source": [
    "import numpy as np"
   ]
  },
  {
   "cell_type": "code",
   "execution_count": 3,
   "id": "51648f06-6054-46b2-b6f0-316fc71fe852",
   "metadata": {
    "tags": []
   },
   "outputs": [
    {
     "data": {
      "text/plain": [
       "48.159720886041086"
      ]
     },
     "execution_count": 3,
     "metadata": {},
     "output_type": "execute_result"
    }
   ],
   "source": [
    "50/np.e**(3/4*.05)"
   ]
  },
  {
   "cell_type": "code",
   "execution_count": 5,
   "id": "4fe5c2d9-0172-4547-a688-ebb4de0ca7bb",
   "metadata": {
    "tags": []
   },
   "outputs": [],
   "source": [
    "fp = 47*np.e**(3/4*.05)"
   ]
  },
  {
   "cell_type": "code",
   "execution_count": 8,
   "id": "f32b9458-37a6-4281-a134-cc38e670612f",
   "metadata": {
    "tags": []
   },
   "outputs": [
    {
     "data": {
      "text/plain": [
       "0.0002791139589146674"
      ]
     },
     "execution_count": 8,
     "metadata": {},
     "output_type": "execute_result"
    }
   ],
   "source": [
    "(4.71 - 3.55) - (50-fp)/np.e**(3/4*.05)"
   ]
  },
  {
   "cell_type": "markdown",
   "id": "27fe93d7-9dad-4afe-9335-57eb7cccd3b0",
   "metadata": {},
   "source": [
    "put-call holds to a few decimal places"
   ]
  },
  {
   "cell_type": "markdown",
   "id": "37542496-2e66-466b-bd38-268cd842ac7d",
   "metadata": {},
   "source": [
    "A 1-year \\\\$60 call on BC costs \\\\$10.82, while a similar put costs \\\\$3.05. The spot price is \\\\$66. What is the risk-free rate?"
   ]
  },
  {
   "cell_type": "code",
   "execution_count": 10,
   "id": "bd4ca9c7-741f-4a0f-8e14-5e093760cf1a",
   "metadata": {
    "tags": []
   },
   "outputs": [],
   "source": [
    "sp = 66\n",
    "rf = "
   ]
  },
  {
   "cell_type": "code",
   "execution_count": 11,
   "id": "f49fe88e-606a-444f-a481-ba1dfc027ca3",
   "metadata": {
    "tags": []
   },
   "outputs": [],
   "source": [
    "c = 10.82\n",
    "p = 3.05\n"
   ]
  },
  {
   "cell_type": "markdown",
   "id": "e0352676-4488-477c-bbc3-b13330d589a5",
   "metadata": {},
   "source": [
    "(c-p)erf-66*erf = -60/((c-p)-66)"
   ]
  },
  {
   "cell_type": "code",
   "execution_count": 16,
   "id": "5ecfe44e-1f2c-4d5c-817f-4721b59cf66c",
   "metadata": {
    "tags": []
   },
   "outputs": [],
   "source": [
    "r = np.log(-60/((c-p)-66))"
   ]
  },
  {
   "cell_type": "code",
   "execution_count": 17,
   "id": "d2eab503-39b2-4dc3-a781-a6777a60f53c",
   "metadata": {
    "tags": []
   },
   "outputs": [
    {
     "data": {
      "text/plain": [
       "0.029943876373072234"
      ]
     },
     "execution_count": 17,
     "metadata": {},
     "output_type": "execute_result"
    }
   ],
   "source": [
    "r"
   ]
  },
  {
   "cell_type": "markdown",
   "id": "d30a6699-c4cd-4d47-87a0-f6d185bec75c",
   "metadata": {},
   "source": [
    "###### MIT"
   ]
  },
  {
   "cell_type": "code",
   "execution_count": 20,
   "id": "5ce1677e-e698-4715-85cb-af9032924728",
   "metadata": {
    "tags": []
   },
   "outputs": [],
   "source": [
    "MIT = 100\n",
    "p_6 = 19.48\n",
    "c_6 = 1.86\n",
    "t_6 = .04"
   ]
  },
  {
   "cell_type": "code",
   "execution_count": null,
   "id": "20f6a1e5-0265-4a9a-a694-b4b5e3901260",
   "metadata": {},
   "outputs": [],
   "source": []
  },
  {
   "cell_type": "markdown",
   "id": "ff2d7342-b227-4117-a77d-aeca1808f2f5",
   "metadata": {},
   "source": [
    "K - 100*np.e**(.04/2) = (19.48-1.86)*np.e**(.04/2)"
   ]
  },
  {
   "cell_type": "code",
   "execution_count": 23,
   "id": "571fcfde-0461-402f-9877-b05c6c2a7e45",
   "metadata": {
    "tags": []
   },
   "outputs": [
    {
     "data": {
      "text/plain": [
       "119.99608161394701"
      ]
     },
     "execution_count": 23,
     "metadata": {},
     "output_type": "execute_result"
    }
   ],
   "source": [
    "K = 100*np.e**(.04/2) +(19.48-1.86)*np.e**(.04/2)\n",
    "K"
   ]
  },
  {
   "cell_type": "markdown",
   "id": "8c4d0ff5-d9fc-41e5-be84-abb38fb7b216",
   "metadata": {},
   "source": []
  },
  {
   "cell_type": "code",
   "execution_count": null,
   "id": "83b022fd-1f6f-4c8c-80d0-858e666ea535",
   "metadata": {},
   "outputs": [],
   "source": [
    "c = 2.89\n",
    "p = 5.44\n",
    "d = .04\n",
    "r=.05\n"
   ]
  },
  {
   "cell_type": "markdown",
   "id": "05275f17-eeb6-470a-bec1-bacc4c4bebaf",
   "metadata": {},
   "source": [
    "2.89-5.44 = (50 - 47*np.e**(.01*3/4))*np.e**(-.03/4)"
   ]
  },
  {
   "cell_type": "code",
   "execution_count": 24,
   "id": "20816389-1bf2-4144-9d72-6d934c524d48",
   "metadata": {
    "tags": []
   },
   "outputs": [
    {
     "data": {
      "text/plain": [
       "-2.5500000000000003"
      ]
     },
     "execution_count": 24,
     "metadata": {},
     "output_type": "execute_result"
    }
   ],
   "source": [
    "lhs = 2.89-5.44\n",
    "lhs"
   ]
  },
  {
   "cell_type": "code",
   "execution_count": 28,
   "id": "036ec3df-7f1f-4234-bd80-2172a079c0b7",
   "metadata": {
    "tags": []
   },
   "outputs": [
    {
     "data": {
      "text/plain": [
       "-2.548780809261206"
      ]
     },
     "execution_count": 28,
     "metadata": {},
     "output_type": "execute_result"
    }
   ],
   "source": [
    "rhs = (47*np.e**(.01*3/4)-50)*np.e**(-.15/4)\n",
    "rhs"
   ]
  }
 ],
 "metadata": {
  "kernelspec": {
   "display_name": "Python 3 (ipykernel)",
   "language": "python",
   "name": "python3"
  },
  "language_info": {
   "codemirror_mode": {
    "name": "ipython",
    "version": 3
   },
   "file_extension": ".py",
   "mimetype": "text/x-python",
   "name": "python",
   "nbconvert_exporter": "python",
   "pygments_lexer": "ipython3",
   "version": "3.9.18"
  }
 },
 "nbformat": 4,
 "nbformat_minor": 5
}
